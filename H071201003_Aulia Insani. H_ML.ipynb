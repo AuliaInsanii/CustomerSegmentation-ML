{
 "cells": [
  {
   "cell_type": "markdown",
   "id": "1a59a6b5",
   "metadata": {},
   "source": [
    "Nama: Aulia Insani. H\n",
    "\n",
    "NIM: H071201003\n",
    "\n",
    "Mata kuliah: Machine Learning"
   ]
  },
  {
   "cell_type": "markdown",
   "id": "81343ae0",
   "metadata": {},
   "source": [
    "# Customer Segmentation K-Means Analysis\n",
    "Segmentasi pasar (customer segmentation) secara umum adalah kegiatan membagi suatu pasar menjadi kelompok-kelompok pembeli yang berbeda yang memiliki kebutuhan, karakteristik, atau perilaku yang berbeda yang mungkin membutuhkan produk atau bauran pemasaran yang berbeda."
   ]
  },
  {
   "cell_type": "code",
   "execution_count": 1,
   "id": "6ebc4e34",
   "metadata": {
    "_cell_guid": "b1076dfc-b9ad-4769-8c92-a6c4dae69d19",
    "_uuid": "8f2839f25d086af736a60e9eeb907d3b93b6e0e5",
    "execution": {
     "iopub.execute_input": "2022-12-09T17:05:51.294319Z",
     "iopub.status.busy": "2022-12-09T17:05:51.293738Z",
     "iopub.status.idle": "2022-12-09T17:05:52.250042Z",
     "shell.execute_reply": "2022-12-09T17:05:52.248815Z"
    },
    "papermill": {
     "duration": 0.971968,
     "end_time": "2022-12-09T17:05:52.252914",
     "exception": false,
     "start_time": "2022-12-09T17:05:51.280946",
     "status": "completed"
    },
    "tags": []
   },
   "outputs": [],
   "source": [
    "import pandas as pd\n",
    "import numpy as np\n",
    "import matplotlib.pyplot as plt\n",
    "import seaborn as sns\n",
    "%matplotlib inline"
   ]
  },
  {
   "cell_type": "code",
   "execution_count": 2,
   "id": "d5127bd3",
   "metadata": {
    "execution": {
     "iopub.execute_input": "2022-12-09T17:05:52.273379Z",
     "iopub.status.busy": "2022-12-09T17:05:52.272991Z",
     "iopub.status.idle": "2022-12-09T17:05:52.306960Z",
     "shell.execute_reply": "2022-12-09T17:05:52.305626Z"
    },
    "papermill": {
     "duration": 0.046609,
     "end_time": "2022-12-09T17:05:52.309402",
     "exception": false,
     "start_time": "2022-12-09T17:05:52.262793",
     "status": "completed"
    },
    "tags": []
   },
   "outputs": [
    {
     "data": {
      "text/html": [
       "<div>\n",
       "<style scoped>\n",
       "    .dataframe tbody tr th:only-of-type {\n",
       "        vertical-align: middle;\n",
       "    }\n",
       "\n",
       "    .dataframe tbody tr th {\n",
       "        vertical-align: top;\n",
       "    }\n",
       "\n",
       "    .dataframe thead th {\n",
       "        text-align: right;\n",
       "    }\n",
       "</style>\n",
       "<table border=\"1\" class=\"dataframe\">\n",
       "  <thead>\n",
       "    <tr style=\"text-align: right;\">\n",
       "      <th></th>\n",
       "      <th>CustomerID</th>\n",
       "      <th>Gender</th>\n",
       "      <th>Age</th>\n",
       "      <th>Annual Income (k$)</th>\n",
       "      <th>Spending Score (1-100)</th>\n",
       "    </tr>\n",
       "  </thead>\n",
       "  <tbody>\n",
       "    <tr>\n",
       "      <th>0</th>\n",
       "      <td>1</td>\n",
       "      <td>Male</td>\n",
       "      <td>19</td>\n",
       "      <td>15</td>\n",
       "      <td>39</td>\n",
       "    </tr>\n",
       "    <tr>\n",
       "      <th>1</th>\n",
       "      <td>2</td>\n",
       "      <td>Male</td>\n",
       "      <td>21</td>\n",
       "      <td>15</td>\n",
       "      <td>81</td>\n",
       "    </tr>\n",
       "    <tr>\n",
       "      <th>2</th>\n",
       "      <td>3</td>\n",
       "      <td>Female</td>\n",
       "      <td>20</td>\n",
       "      <td>16</td>\n",
       "      <td>6</td>\n",
       "    </tr>\n",
       "    <tr>\n",
       "      <th>3</th>\n",
       "      <td>4</td>\n",
       "      <td>Female</td>\n",
       "      <td>23</td>\n",
       "      <td>16</td>\n",
       "      <td>77</td>\n",
       "    </tr>\n",
       "    <tr>\n",
       "      <th>4</th>\n",
       "      <td>5</td>\n",
       "      <td>Female</td>\n",
       "      <td>31</td>\n",
       "      <td>17</td>\n",
       "      <td>40</td>\n",
       "    </tr>\n",
       "  </tbody>\n",
       "</table>\n",
       "</div>"
      ],
      "text/plain": [
       "   CustomerID  Gender  Age  Annual Income (k$)  Spending Score (1-100)\n",
       "0           1    Male   19                  15                      39\n",
       "1           2    Male   21                  15                      81\n",
       "2           3  Female   20                  16                       6\n",
       "3           4  Female   23                  16                      77\n",
       "4           5  Female   31                  17                      40"
      ]
     },
     "execution_count": 2,
     "metadata": {},
     "output_type": "execute_result"
    }
   ],
   "source": [
    "df = pd.read_csv(\"Mall_Customers.csv\")\n",
    "df.head()"
   ]
  },
  {
   "cell_type": "code",
   "execution_count": 3,
   "id": "0b9cfb1b",
   "metadata": {
    "execution": {
     "iopub.execute_input": "2022-12-09T17:05:52.329680Z",
     "iopub.status.busy": "2022-12-09T17:05:52.329024Z",
     "iopub.status.idle": "2022-12-09T17:05:52.365205Z",
     "shell.execute_reply": "2022-12-09T17:05:52.364146Z"
    },
    "papermill": {
     "duration": 0.04909,
     "end_time": "2022-12-09T17:05:52.367689",
     "exception": false,
     "start_time": "2022-12-09T17:05:52.318599",
     "status": "completed"
    },
    "tags": []
   },
   "outputs": [
    {
     "data": {
      "text/html": [
       "<div>\n",
       "<style scoped>\n",
       "    .dataframe tbody tr th:only-of-type {\n",
       "        vertical-align: middle;\n",
       "    }\n",
       "\n",
       "    .dataframe tbody tr th {\n",
       "        vertical-align: top;\n",
       "    }\n",
       "\n",
       "    .dataframe thead th {\n",
       "        text-align: right;\n",
       "    }\n",
       "</style>\n",
       "<table border=\"1\" class=\"dataframe\">\n",
       "  <thead>\n",
       "    <tr style=\"text-align: right;\">\n",
       "      <th></th>\n",
       "      <th>count</th>\n",
       "      <th>mean</th>\n",
       "      <th>std</th>\n",
       "      <th>min</th>\n",
       "      <th>25%</th>\n",
       "      <th>50%</th>\n",
       "      <th>75%</th>\n",
       "      <th>max</th>\n",
       "    </tr>\n",
       "  </thead>\n",
       "  <tbody>\n",
       "    <tr>\n",
       "      <th>CustomerID</th>\n",
       "      <td>200.0</td>\n",
       "      <td>100.50</td>\n",
       "      <td>57.879185</td>\n",
       "      <td>1.0</td>\n",
       "      <td>50.75</td>\n",
       "      <td>100.5</td>\n",
       "      <td>150.25</td>\n",
       "      <td>200.0</td>\n",
       "    </tr>\n",
       "    <tr>\n",
       "      <th>Age</th>\n",
       "      <td>200.0</td>\n",
       "      <td>38.85</td>\n",
       "      <td>13.969007</td>\n",
       "      <td>18.0</td>\n",
       "      <td>28.75</td>\n",
       "      <td>36.0</td>\n",
       "      <td>49.00</td>\n",
       "      <td>70.0</td>\n",
       "    </tr>\n",
       "    <tr>\n",
       "      <th>Annual Income (k$)</th>\n",
       "      <td>200.0</td>\n",
       "      <td>60.56</td>\n",
       "      <td>26.264721</td>\n",
       "      <td>15.0</td>\n",
       "      <td>41.50</td>\n",
       "      <td>61.5</td>\n",
       "      <td>78.00</td>\n",
       "      <td>137.0</td>\n",
       "    </tr>\n",
       "    <tr>\n",
       "      <th>Spending Score (1-100)</th>\n",
       "      <td>200.0</td>\n",
       "      <td>50.20</td>\n",
       "      <td>25.823522</td>\n",
       "      <td>1.0</td>\n",
       "      <td>34.75</td>\n",
       "      <td>50.0</td>\n",
       "      <td>73.00</td>\n",
       "      <td>99.0</td>\n",
       "    </tr>\n",
       "  </tbody>\n",
       "</table>\n",
       "</div>"
      ],
      "text/plain": [
       "                        count    mean        std   min    25%    50%     75%  \\\n",
       "CustomerID              200.0  100.50  57.879185   1.0  50.75  100.5  150.25   \n",
       "Age                     200.0   38.85  13.969007  18.0  28.75   36.0   49.00   \n",
       "Annual Income (k$)      200.0   60.56  26.264721  15.0  41.50   61.5   78.00   \n",
       "Spending Score (1-100)  200.0   50.20  25.823522   1.0  34.75   50.0   73.00   \n",
       "\n",
       "                          max  \n",
       "CustomerID              200.0  \n",
       "Age                      70.0  \n",
       "Annual Income (k$)      137.0  \n",
       "Spending Score (1-100)   99.0  "
      ]
     },
     "execution_count": 3,
     "metadata": {},
     "output_type": "execute_result"
    }
   ],
   "source": [
    "df.describe().transpose()"
   ]
  },
  {
   "cell_type": "code",
   "execution_count": 4,
   "id": "8f457d7e",
   "metadata": {
    "execution": {
     "iopub.execute_input": "2022-12-09T17:05:52.389272Z",
     "iopub.status.busy": "2022-12-09T17:05:52.388896Z",
     "iopub.status.idle": "2022-12-09T17:05:52.405004Z",
     "shell.execute_reply": "2022-12-09T17:05:52.403605Z"
    },
    "papermill": {
     "duration": 0.03103,
     "end_time": "2022-12-09T17:05:52.407907",
     "exception": false,
     "start_time": "2022-12-09T17:05:52.376877",
     "status": "completed"
    },
    "tags": []
   },
   "outputs": [
    {
     "name": "stdout",
     "output_type": "stream",
     "text": [
      "<class 'pandas.core.frame.DataFrame'>\n",
      "RangeIndex: 200 entries, 0 to 199\n",
      "Data columns (total 5 columns):\n",
      " #   Column                  Non-Null Count  Dtype \n",
      "---  ------                  --------------  ----- \n",
      " 0   CustomerID              200 non-null    int64 \n",
      " 1   Gender                  200 non-null    object\n",
      " 2   Age                     200 non-null    int64 \n",
      " 3   Annual Income (k$)      200 non-null    int64 \n",
      " 4   Spending Score (1-100)  200 non-null    int64 \n",
      "dtypes: int64(4), object(1)\n",
      "memory usage: 7.9+ KB\n"
     ]
    }
   ],
   "source": [
    "df.info()"
   ]
  },
  {
   "cell_type": "markdown",
   "id": "ff5bf957",
   "metadata": {
    "papermill": {
     "duration": 0.009142,
     "end_time": "2022-12-09T17:05:52.426815",
     "exception": false,
     "start_time": "2022-12-09T17:05:52.417673",
     "status": "completed"
    },
    "tags": []
   },
   "source": [
    "# Data Visualization"
   ]
  },
  {
   "cell_type": "code",
   "execution_count": 5,
   "id": "4adf5725",
   "metadata": {
    "execution": {
     "iopub.execute_input": "2022-12-09T17:05:52.447754Z",
     "iopub.status.busy": "2022-12-09T17:05:52.446896Z",
     "iopub.status.idle": "2022-12-09T17:05:53.021326Z",
     "shell.execute_reply": "2022-12-09T17:05:53.020122Z"
    },
    "papermill": {
     "duration": 0.58748,
     "end_time": "2022-12-09T17:05:53.023783",
     "exception": false,
     "start_time": "2022-12-09T17:05:52.436303",
     "status": "completed"
    },
    "tags": []
   },
   "outputs": [
    {
     "data": {
      "image/png": "[encoded data removed]",
      "text/plain": [
       "<Figure size 1080x432 with 3 Axes>"
      ]
     },
     "metadata": {
      "needs_background": "light"
     },
     "output_type": "display_data"
    }
   ],
   "source": [
    "plt.figure(1 , figsize = (15 , 6))\n",
    "n = 0 \n",
    "for col in ['Age' , 'Annual Income (k$)' , 'Spending Score (1-100)']:\n",
    "    n += 1\n",
    "    plt.subplot(1 , 3 , n)\n",
    "    plt.subplots_adjust(hspace =0.5 , wspace = 0.5)\n",
    "    sns.histplot(data=df, x=col, bins = 20, kde=True)\n",
    "    plt.title('Histplot of {}'.format(col))\n",
    "plt.show()"
   ]
  },
  {
   "cell_type": "code",
   "execution_count": 6,
   "id": "08b55f85",
   "metadata": {
    "execution": {
     "iopub.execute_input": "2022-12-09T17:05:53.045840Z",
     "iopub.status.busy": "2022-12-09T17:05:53.045352Z",
     "iopub.status.idle": "2022-12-09T17:05:53.317807Z",
     "shell.execute_reply": "2022-12-09T17:05:53.316602Z"
    },
    "papermill": {
     "duration": 0.286663,
     "end_time": "2022-12-09T17:05:53.320754",
     "exception": false,
     "start_time": "2022-12-09T17:05:53.034091",
     "status": "completed"
    },
    "tags": []
   },
   "outputs": [
    {
     "data": {
      "text/plain": [
       "[]"
      ]
     },
     "execution_count": 6,
     "metadata": {},
     "output_type": "execute_result"
    },
    {
     "data": {
      "image/png": "[encoded data removed]",
      "text/plain": [
       "<Figure size 432x288 with 1 Axes>"
      ]
     },
     "metadata": {
      "needs_background": "light"
     },
     "output_type": "display_data"
    }
   ],
   "source": [
    "plt.title(\"Spending Score Vs Annual Income\")\n",
    "sns.scatterplot(data=df, x=\"Spending Score (1-100)\", y=\"Annual Income (k$)\")\n",
    "plt.plot()"
   ]
  },
  {
   "cell_type": "markdown",
   "id": "87453594",
   "metadata": {
    "papermill": {
     "duration": 0.01023,
     "end_time": "2022-12-09T17:05:53.342340",
     "exception": false,
     "start_time": "2022-12-09T17:05:53.332110",
     "status": "completed"
    },
    "tags": []
   },
   "source": [
    "**Observations**\n",
    "* Dari visualisasi di atas dapat disimpulkan bahwa Data dapat dikategorikan menjadi 5 cluster berdasarkan pendapatan (income) dan skor pengeluaran (spending score)."
   ]
  },
  {
   "cell_type": "code",
   "execution_count": 7,
   "id": "e8089409",
   "metadata": {
    "execution": {
     "iopub.execute_input": "2022-12-09T17:05:53.365988Z",
     "iopub.status.busy": "2022-12-09T17:05:53.365127Z",
     "iopub.status.idle": "2022-12-09T17:05:53.585134Z",
     "shell.execute_reply": "2022-12-09T17:05:53.582825Z"
    },
    "papermill": {
     "duration": 0.235519,
     "end_time": "2022-12-09T17:05:53.588415",
     "exception": false,
     "start_time": "2022-12-09T17:05:53.352896",
     "status": "completed"
    },
    "scrolled": true,
    "tags": []
   },
   "outputs": [
    {
     "data": {
      "image/png": "[encoded data removed]",
      "text/plain": [
       "<Figure size 432x288 with 1 Axes>"
      ]
     },
     "metadata": {
      "needs_background": "light"
     },
     "output_type": "display_data"
    }
   ],
   "source": [
    "plt.title(\"Age Vs Spending Score\")\n",
    "sns.scatterplot(data=df, x=\"Age\", y=\"Spending Score (1-100)\")\n",
    "plt.show()"
   ]
  },
  {
   "cell_type": "markdown",
   "id": "84e90550",
   "metadata": {
    "papermill": {
     "duration": 0.010409,
     "end_time": "2022-12-09T17:05:53.609876",
     "exception": false,
     "start_time": "2022-12-09T17:05:53.599467",
     "status": "completed"
    },
    "tags": []
   },
   "source": [
    "**Observations**\n",
    "* Dari plot di atas kita dapat menyimpulkan bahwa orang-orang antara 20 - 40 tahun adalah orang-orang yang lebih mungkin berbelanja karena berada di tahun-tahun prima dan memiliki pendapatan yang tinggi untuk dibelanjakan.\n",
    "* Sedangkan setelah usia 40 tahun, orang cenderung berpenghasilan lebih sedikit atau menggunakan uang pensiun atau tabungan mereka yang mungkin menjadi alasan untuk membelanjakan uang lebih sedikit."
   ]
  },
  {
   "cell_type": "code",
   "execution_count": 8,
   "id": "6962dd16",
   "metadata": {
    "execution": {
     "iopub.execute_input": "2022-12-09T17:05:53.633037Z",
     "iopub.status.busy": "2022-12-09T17:05:53.632620Z",
     "iopub.status.idle": "2022-12-09T17:05:53.897077Z",
     "shell.execute_reply": "2022-12-09T17:05:53.895784Z"
    },
    "papermill": {
     "duration": 0.278907,
     "end_time": "2022-12-09T17:05:53.899544",
     "exception": false,
     "start_time": "2022-12-09T17:05:53.620637",
     "status": "completed"
    },
    "tags": []
   },
   "outputs": [
    {
     "data": {
      "image/png": "[encoded data removed]",
      "text/plain": [
       "<Figure size 576x288 with 2 Axes>"
      ]
     },
     "metadata": {
      "needs_background": "light"
     },
     "output_type": "display_data"
    }
   ],
   "source": [
    "# Checking for any outliers as we will be using the K-Means Algorithm\n",
    "# Box Plot for finding outliers\n",
    "plt.figure(figsize=(8,4))\n",
    "plt.subplots_adjust(hspace=.25)\n",
    "\n",
    "plt.subplot(1,2,1)\n",
    "plt.title(\"Boxplot of Annual Income\")\n",
    "sns.boxplot(x = df['Annual Income (k$)'])\n",
    "\n",
    "plt.subplot(1,2,2)\n",
    "plt.title(\"Boxplot of Spending Score\")\n",
    "sns.boxplot(x= df['Spending Score (1-100)'])\n",
    "\n",
    "plt.show()"
   ]
  },
  {
   "cell_type": "markdown",
   "id": "63e0dabd",
   "metadata": {
    "papermill": {
     "duration": 0.011934,
     "end_time": "2022-12-09T17:05:53.925663",
     "exception": false,
     "start_time": "2022-12-09T17:05:53.913729",
     "status": "completed"
    },
    "tags": []
   },
   "source": [
    "**Observations**\n",
    "* Dari plot di atas kita dapat melihat bahwa ada outlier dalam Pendapatan Tahunan (Annual Income) yang dapat mempengaruhi model K mean kita, jadi kita perlu menangani outlier dengan benar."
   ]
  },
  {
   "cell_type": "markdown",
   "id": "85be3b33",
   "metadata": {
    "papermill": {
     "duration": 0.011748,
     "end_time": "2022-12-09T17:05:53.951467",
     "exception": false,
     "start_time": "2022-12-09T17:05:53.939719",
     "status": "completed"
    },
    "tags": []
   },
   "source": [
    "# Data Pre-Processing"
   ]
  },
  {
   "cell_type": "code",
   "execution_count": 9,
   "id": "2b73b1bd",
   "metadata": {
    "execution": {
     "iopub.execute_input": "2022-12-09T17:05:53.975630Z",
     "iopub.status.busy": "2022-12-09T17:05:53.975094Z",
     "iopub.status.idle": "2022-12-09T17:05:53.989348Z",
     "shell.execute_reply": "2022-12-09T17:05:53.987940Z"
    },
    "papermill": {
     "duration": 0.030112,
     "end_time": "2022-12-09T17:05:53.992780",
     "exception": false,
     "start_time": "2022-12-09T17:05:53.962668",
     "status": "completed"
    },
    "tags": []
   },
   "outputs": [
    {
     "data": {
      "text/html": [
       "<div>\n",
       "<style scoped>\n",
       "    .dataframe tbody tr th:only-of-type {\n",
       "        vertical-align: middle;\n",
       "    }\n",
       "\n",
       "    .dataframe tbody tr th {\n",
       "        vertical-align: top;\n",
       "    }\n",
       "\n",
       "    .dataframe thead th {\n",
       "        text-align: right;\n",
       "    }\n",
       "</style>\n",
       "<table border=\"1\" class=\"dataframe\">\n",
       "  <thead>\n",
       "    <tr style=\"text-align: right;\">\n",
       "      <th></th>\n",
       "      <th>Gender</th>\n",
       "      <th>Age</th>\n",
       "      <th>Annual Income (k$)</th>\n",
       "      <th>Spending Score (1-100)</th>\n",
       "    </tr>\n",
       "  </thead>\n",
       "  <tbody>\n",
       "    <tr>\n",
       "      <th>0</th>\n",
       "      <td>Male</td>\n",
       "      <td>19</td>\n",
       "      <td>15</td>\n",
       "      <td>39</td>\n",
       "    </tr>\n",
       "    <tr>\n",
       "      <th>1</th>\n",
       "      <td>Male</td>\n",
       "      <td>21</td>\n",
       "      <td>15</td>\n",
       "      <td>81</td>\n",
       "    </tr>\n",
       "    <tr>\n",
       "      <th>2</th>\n",
       "      <td>Female</td>\n",
       "      <td>20</td>\n",
       "      <td>16</td>\n",
       "      <td>6</td>\n",
       "    </tr>\n",
       "    <tr>\n",
       "      <th>3</th>\n",
       "      <td>Female</td>\n",
       "      <td>23</td>\n",
       "      <td>16</td>\n",
       "      <td>77</td>\n",
       "    </tr>\n",
       "    <tr>\n",
       "      <th>4</th>\n",
       "      <td>Female</td>\n",
       "      <td>31</td>\n",
       "      <td>17</td>\n",
       "      <td>40</td>\n",
       "    </tr>\n",
       "  </tbody>\n",
       "</table>\n",
       "</div>"
      ],
      "text/plain": [
       "   Gender  Age  Annual Income (k$)  Spending Score (1-100)\n",
       "0    Male   19                  15                      39\n",
       "1    Male   21                  15                      81\n",
       "2  Female   20                  16                       6\n",
       "3  Female   23                  16                      77\n",
       "4  Female   31                  17                      40"
      ]
     },
     "execution_count": 9,
     "metadata": {},
     "output_type": "execute_result"
    }
   ],
   "source": [
    "# Drop ID as it does not have any effect in analysis as well as the model\n",
    "df.drop('CustomerID', axis=1, inplace=True)\n",
    "df.head()"
   ]
  },
  {
   "cell_type": "code",
   "execution_count": 11,
   "id": "3e7ea45d",
   "metadata": {
    "execution": {
     "iopub.execute_input": "2022-12-09T17:05:54.059056Z",
     "iopub.status.busy": "2022-12-09T17:05:54.058369Z",
     "iopub.status.idle": "2022-12-09T17:05:54.067756Z",
     "shell.execute_reply": "2022-12-09T17:05:54.066607Z"
    },
    "papermill": {
     "duration": 0.025924,
     "end_time": "2022-12-09T17:05:54.070109",
     "exception": false,
     "start_time": "2022-12-09T17:05:54.044185",
     "status": "completed"
    },
    "tags": []
   },
   "outputs": [],
   "source": [
    "# Remove the Outlier using upper and lower boundary technique\n",
    "def remove_outlier(col):\n",
    "    sorted(col)\n",
    "    Q1,Q3=np.percentile(col,[25,75])\n",
    "    IQR=Q3-Q1\n",
    "    lower_range= Q1-(1.5 * IQR)\n",
    "    upper_range= Q3+(1.5 * IQR)\n",
    "    return lower_range, upper_range\n",
    "\n",
    "lr,ur = remove_outlier(df['Annual Income (k$)'])\n",
    "df['Annual Income (k$)']=np.where(df['Annual Income (k$)'] > ur, ur , df['Annual Income (k$)'])\n",
    "df['Annual Income (k$)']=np.where(df['Annual Income (k$)'] < lr, lr ,df['Annual Income (k$)'])"
   ]
  },
  {
   "cell_type": "code",
   "execution_count": 12,
   "id": "bc08b635",
   "metadata": {
    "execution": {
     "iopub.execute_input": "2022-12-09T17:05:54.094610Z",
     "iopub.status.busy": "2022-12-09T17:05:54.094190Z",
     "iopub.status.idle": "2022-12-09T17:05:54.283744Z",
     "shell.execute_reply": "2022-12-09T17:05:54.282681Z"
    },
    "papermill": {
     "duration": 0.204512,
     "end_time": "2022-12-09T17:05:54.286163",
     "exception": false,
     "start_time": "2022-12-09T17:05:54.081651",
     "status": "completed"
    },
    "tags": []
   },
   "outputs": [
    {
     "data": {
      "text/plain": [
       "<AxesSubplot:title={'center':'Boxplot of Annual Income'}, xlabel='Annual Income (k$)'>"
      ]
     },
     "execution_count": 12,
     "metadata": {},
     "output_type": "execute_result"
    },
    {
     "data": {
      "image/png": "[encoded data removed]",
      "text/plain": [
       "<Figure size 432x288 with 1 Axes>"
      ]
     },
     "metadata": {
      "needs_background": "light"
     },
     "output_type": "display_data"
    }
   ],
   "source": [
    "plt.title(\"Boxplot of Annual Income\")\n",
    "sns.boxplot(x = df['Annual Income (k$)'])"
   ]
  },
  {
   "cell_type": "markdown",
   "id": "e368abcb",
   "metadata": {
    "papermill": {
     "duration": 0.011911,
     "end_time": "2022-12-09T17:05:54.310358",
     "exception": false,
     "start_time": "2022-12-09T17:05:54.298447",
     "status": "completed"
    },
    "tags": []
   },
   "source": [
    "**Sekarang outlier dihapus dan kolom siap digunakan dalam model**"
   ]
  },
  {
   "cell_type": "code",
   "execution_count": 13,
   "id": "6ececd6d",
   "metadata": {
    "execution": {
     "iopub.execute_input": "2022-12-09T17:05:54.335622Z",
     "iopub.status.busy": "2022-12-09T17:05:54.335152Z",
     "iopub.status.idle": "2022-12-09T17:05:54.349709Z",
     "shell.execute_reply": "2022-12-09T17:05:54.348935Z"
    },
    "papermill": {
     "duration": 0.029616,
     "end_time": "2022-12-09T17:05:54.351770",
     "exception": false,
     "start_time": "2022-12-09T17:05:54.322154",
     "status": "completed"
    },
    "tags": []
   },
   "outputs": [
    {
     "data": {
      "text/html": [
       "<div>\n",
       "<style scoped>\n",
       "    .dataframe tbody tr th:only-of-type {\n",
       "        vertical-align: middle;\n",
       "    }\n",
       "\n",
       "    .dataframe tbody tr th {\n",
       "        vertical-align: top;\n",
       "    }\n",
       "\n",
       "    .dataframe thead th {\n",
       "        text-align: right;\n",
       "    }\n",
       "</style>\n",
       "<table border=\"1\" class=\"dataframe\">\n",
       "  <thead>\n",
       "    <tr style=\"text-align: right;\">\n",
       "      <th></th>\n",
       "      <th>Age</th>\n",
       "      <th>Annual Income (k$)</th>\n",
       "      <th>Spending Score (1-100)</th>\n",
       "      <th>Gender_Female</th>\n",
       "      <th>Gender_Male</th>\n",
       "    </tr>\n",
       "  </thead>\n",
       "  <tbody>\n",
       "    <tr>\n",
       "      <th>0</th>\n",
       "      <td>19</td>\n",
       "      <td>15.0</td>\n",
       "      <td>39</td>\n",
       "      <td>0</td>\n",
       "      <td>1</td>\n",
       "    </tr>\n",
       "    <tr>\n",
       "      <th>1</th>\n",
       "      <td>21</td>\n",
       "      <td>15.0</td>\n",
       "      <td>81</td>\n",
       "      <td>0</td>\n",
       "      <td>1</td>\n",
       "    </tr>\n",
       "    <tr>\n",
       "      <th>2</th>\n",
       "      <td>20</td>\n",
       "      <td>16.0</td>\n",
       "      <td>6</td>\n",
       "      <td>1</td>\n",
       "      <td>0</td>\n",
       "    </tr>\n",
       "    <tr>\n",
       "      <th>3</th>\n",
       "      <td>23</td>\n",
       "      <td>16.0</td>\n",
       "      <td>77</td>\n",
       "      <td>1</td>\n",
       "      <td>0</td>\n",
       "    </tr>\n",
       "    <tr>\n",
       "      <th>4</th>\n",
       "      <td>31</td>\n",
       "      <td>17.0</td>\n",
       "      <td>40</td>\n",
       "      <td>1</td>\n",
       "      <td>0</td>\n",
       "    </tr>\n",
       "  </tbody>\n",
       "</table>\n",
       "</div>"
      ],
      "text/plain": [
       "   Age  Annual Income (k$)  Spending Score (1-100)  Gender_Female  Gender_Male\n",
       "0   19                15.0                      39              0            1\n",
       "1   21                15.0                      81              0            1\n",
       "2   20                16.0                       6              1            0\n",
       "3   23                16.0                      77              1            0\n",
       "4   31                17.0                      40              1            0"
      ]
     },
     "execution_count": 13,
     "metadata": {},
     "output_type": "execute_result"
    }
   ],
   "source": [
    "# Perform One Hot Encoding for the Gender Column\n",
    "df = pd.get_dummies(df, columns=['Gender'])\n",
    "df.head()"
   ]
  },
  {
   "cell_type": "markdown",
   "id": "411729cb",
   "metadata": {
    "papermill": {
     "duration": 0.012005,
     "end_time": "2022-12-09T17:05:54.399424",
     "exception": false,
     "start_time": "2022-12-09T17:05:54.387419",
     "status": "completed"
    },
    "tags": []
   },
   "source": [
    "**Karena salah satu Kolom Gender cukup untuk mengkategorikan Gender, kami menghapus salah satu kolom laki-laki atau perempuan untuk menghindari duplikasi**"
   ]
  },
  {
   "cell_type": "code",
   "execution_count": 14,
   "id": "65e8320a",
   "metadata": {
    "execution": {
     "iopub.execute_input": "2022-12-09T17:05:54.425605Z",
     "iopub.status.busy": "2022-12-09T17:05:54.424616Z",
     "iopub.status.idle": "2022-12-09T17:05:54.436777Z",
     "shell.execute_reply": "2022-12-09T17:05:54.435616Z"
    },
    "papermill": {
     "duration": 0.027812,
     "end_time": "2022-12-09T17:05:54.439223",
     "exception": false,
     "start_time": "2022-12-09T17:05:54.411411",
     "status": "completed"
    },
    "tags": []
   },
   "outputs": [
    {
     "data": {
      "text/html": [
       "<div>\n",
       "<style scoped>\n",
       "    .dataframe tbody tr th:only-of-type {\n",
       "        vertical-align: middle;\n",
       "    }\n",
       "\n",
       "    .dataframe tbody tr th {\n",
       "        vertical-align: top;\n",
       "    }\n",
       "\n",
       "    .dataframe thead th {\n",
       "        text-align: right;\n",
       "    }\n",
       "</style>\n",
       "<table border=\"1\" class=\"dataframe\">\n",
       "  <thead>\n",
       "    <tr style=\"text-align: right;\">\n",
       "      <th></th>\n",
       "      <th>Age</th>\n",
       "      <th>Annual Income (k$)</th>\n",
       "      <th>Spending Score (1-100)</th>\n",
       "      <th>Gender_Male</th>\n",
       "    </tr>\n",
       "  </thead>\n",
       "  <tbody>\n",
       "    <tr>\n",
       "      <th>0</th>\n",
       "      <td>19</td>\n",
       "      <td>15.0</td>\n",
       "      <td>39</td>\n",
       "      <td>1</td>\n",
       "    </tr>\n",
       "    <tr>\n",
       "      <th>1</th>\n",
       "      <td>21</td>\n",
       "      <td>15.0</td>\n",
       "      <td>81</td>\n",
       "      <td>1</td>\n",
       "    </tr>\n",
       "    <tr>\n",
       "      <th>2</th>\n",
       "      <td>20</td>\n",
       "      <td>16.0</td>\n",
       "      <td>6</td>\n",
       "      <td>0</td>\n",
       "    </tr>\n",
       "    <tr>\n",
       "      <th>3</th>\n",
       "      <td>23</td>\n",
       "      <td>16.0</td>\n",
       "      <td>77</td>\n",
       "      <td>0</td>\n",
       "    </tr>\n",
       "    <tr>\n",
       "      <th>4</th>\n",
       "      <td>31</td>\n",
       "      <td>17.0</td>\n",
       "      <td>40</td>\n",
       "      <td>0</td>\n",
       "    </tr>\n",
       "  </tbody>\n",
       "</table>\n",
       "</div>"
      ],
      "text/plain": [
       "   Age  Annual Income (k$)  Spending Score (1-100)  Gender_Male\n",
       "0   19                15.0                      39            1\n",
       "1   21                15.0                      81            1\n",
       "2   20                16.0                       6            0\n",
       "3   23                16.0                      77            0\n",
       "4   31                17.0                      40            0"
      ]
     },
     "execution_count": 14,
     "metadata": {},
     "output_type": "execute_result"
    }
   ],
   "source": [
    "# Drop Female or either male to avoid duplication\n",
    "df.drop('Gender_Female', axis = 1, inplace = True)\n",
    "df.head()"
   ]
  },
  {
   "cell_type": "markdown",
   "id": "b2500361",
   "metadata": {
    "papermill": {
     "duration": 0.011726,
     "end_time": "2022-12-09T17:05:54.463104",
     "exception": false,
     "start_time": "2022-12-09T17:05:54.451378",
     "status": "completed"
    },
    "tags": []
   },
   "source": [
    "# Training the Model"
   ]
  },
  {
   "cell_type": "code",
   "execution_count": 15,
   "id": "1613b653",
   "metadata": {
    "execution": {
     "iopub.execute_input": "2022-12-09T17:05:54.488911Z",
     "iopub.status.busy": "2022-12-09T17:05:54.488491Z",
     "iopub.status.idle": "2022-12-09T17:05:54.861329Z",
     "shell.execute_reply": "2022-12-09T17:05:54.860105Z"
    },
    "papermill": {
     "duration": 0.388922,
     "end_time": "2022-12-09T17:05:54.864127",
     "exception": false,
     "start_time": "2022-12-09T17:05:54.475205",
     "status": "completed"
    },
    "tags": []
   },
   "outputs": [],
   "source": [
    "# Importing all the necessary modules for predicting, finding right params and validation\n",
    "from sklearn.cluster import KMeans, MeanShift\n",
    "from sklearn.metrics import silhouette_score"
   ]
  },
  {
   "cell_type": "markdown",
   "id": "c4616dbe",
   "metadata": {
    "papermill": {
     "duration": 0.011844,
     "end_time": "2022-12-09T17:05:54.888765",
     "exception": false,
     "start_time": "2022-12-09T17:05:54.876921",
     "status": "completed"
    },
    "tags": []
   },
   "source": [
    "**Menghitung K (Clusters value) terbaik untuk K-Means**"
   ]
  },
  {
   "cell_type": "code",
   "execution_count": 16,
   "id": "6e85c014",
   "metadata": {
    "execution": {
     "iopub.execute_input": "2022-12-09T17:05:54.915406Z",
     "iopub.status.busy": "2022-12-09T17:05:54.915002Z",
     "iopub.status.idle": "2022-12-09T17:05:55.441329Z",
     "shell.execute_reply": "2022-12-09T17:05:55.440029Z"
    },
    "papermill": {
     "duration": 0.54258,
     "end_time": "2022-12-09T17:05:55.444083",
     "exception": false,
     "start_time": "2022-12-09T17:05:54.901503",
     "status": "completed"
    },
    "tags": []
   },
   "outputs": [
    {
     "name": "stderr",
     "output_type": "stream",
     "text": [
      "C:\\Users\\USER\\anaconda3\\lib\\site-packages\\sklearn\\cluster\\_kmeans.py:1036: UserWarning: KMeans is known to have a memory leak on Windows with MKL, when there are less chunks than available threads. You can avoid it by setting the environment variable OMP_NUM_THREADS=1.\n",
      "  warnings.warn(\n"
     ]
    }
   ],
   "source": [
    "# Calculating the best possible cluster\n",
    "wss = []\n",
    "for cluster in range(1, 11):\n",
    "    KM = KMeans(n_clusters = cluster)\n",
    "    KM.fit(df)\n",
    "    wss.append(KM.inertia_)"
   ]
  },
  {
   "cell_type": "code",
   "execution_count": 17,
   "id": "b54d1c6c",
   "metadata": {
    "execution": {
     "iopub.execute_input": "2022-12-09T17:05:55.472108Z",
     "iopub.status.busy": "2022-12-09T17:05:55.471662Z",
     "iopub.status.idle": "2022-12-09T17:05:55.479958Z",
     "shell.execute_reply": "2022-12-09T17:05:55.478422Z"
    },
    "papermill": {
     "duration": 0.025995,
     "end_time": "2022-12-09T17:05:55.484101",
     "exception": false,
     "start_time": "2022-12-09T17:05:55.458106",
     "status": "completed"
    },
    "tags": []
   },
   "outputs": [
    {
     "name": "stdout",
     "output_type": "stream",
     "text": [
      "Cluster 0 Diff in wss value: Not Applicable\n",
      "Cluster 1 Diff in wss value: 95969.04151214834\n",
      "Cluster 2 Diff in wss value: 69056.44642439095\n",
      "Cluster 3 Diff in wss value: 38976.917018155145\n",
      "Cluster 4 Diff in wss value: 29008.71133535057\n",
      "Cluster 5 Diff in wss value: 17046.920528874383\n",
      "Cluster 6 Diff in wss value: 6980.048298169408\n",
      "Cluster 7 Diff in wss value: 6265.071269598848\n",
      "Cluster 8 Diff in wss value: 4090.2790567933043\n",
      "Cluster 9 Diff in wss value: 3367.960612916366\n"
     ]
    }
   ],
   "source": [
    "for index, rate in enumerate(wss):\n",
    "    if index == 0:\n",
    "        print(\"Cluster \" + str(index) + \" Diff in wss value: Not Applicable\")\n",
    "    else:\n",
    "        print(\"Cluster \" + str(index) + \" Diff in wss value: \" + str(wss[index - 1] - wss[index]))"
   ]
  },
  {
   "cell_type": "code",
   "execution_count": 18,
   "id": "306fdc73",
   "metadata": {
    "execution": {
     "iopub.execute_input": "2022-12-09T17:05:55.510737Z",
     "iopub.status.busy": "2022-12-09T17:05:55.510283Z",
     "iopub.status.idle": "2022-12-09T17:05:55.722559Z",
     "shell.execute_reply": "2022-12-09T17:05:55.721354Z"
    },
    "papermill": {
     "duration": 0.228758,
     "end_time": "2022-12-09T17:05:55.725020",
     "exception": false,
     "start_time": "2022-12-09T17:05:55.496262",
     "status": "completed"
    },
    "tags": []
   },
   "outputs": [
    {
     "data": {
      "text/plain": [
       "[<matplotlib.lines.Line2D at 0x1ed69c82940>]"
      ]
     },
     "execution_count": 18,
     "metadata": {},
     "output_type": "execute_result"
    },
    {
     "data": {
      "image/png": "[encoded data removed]",
      "text/plain": [
       "<Figure size 432x288 with 1 Axes>"
      ]
     },
     "metadata": {
      "needs_background": "light"
     },
     "output_type": "display_data"
    }
   ],
   "source": [
    "# Plot of wss\n",
    "plt.xlabel('Clusters Value') , plt.ylabel('Inertia')\n",
    "plt.plot(range(1,11), wss)"
   ]
  },
  {
   "cell_type": "markdown",
   "id": "7cfd35a5",
   "metadata": {
    "papermill": {
     "duration": 0.0125,
     "end_time": "2022-12-09T17:05:55.750382",
     "exception": false,
     "start_time": "2022-12-09T17:05:55.737882",
     "status": "completed"
    },
    "tags": []
   },
   "source": [
    "**Dari plot dan perhitungan di atas kita dapat mengamati bahwa K=5 akan menjadi nilai yang benar.**"
   ]
  },
  {
   "cell_type": "code",
   "execution_count": 26,
   "id": "3063886e",
   "metadata": {
    "execution": {
     "iopub.execute_input": "2022-12-09T17:05:55.777719Z",
     "iopub.status.busy": "2022-12-09T17:05:55.777262Z",
     "iopub.status.idle": "2022-12-09T17:05:55.817748Z",
     "shell.execute_reply": "2022-12-09T17:05:55.816803Z"
    },
    "papermill": {
     "duration": 0.057349,
     "end_time": "2022-12-09T17:05:55.820552",
     "exception": false,
     "start_time": "2022-12-09T17:05:55.763203",
     "status": "completed"
    },
    "tags": []
   },
   "outputs": [
    {
     "name": "stdout",
     "output_type": "stream",
     "text": [
      "[1 4 1 4 1 4 1 4 1 4 1 4 1 4 1 4 1 4 1 4 1 4 1 4 1 4 1 4 1 4 1 4 1 4 1 4 1\n",
      " 4 1 4 1 4 1 4 1 4 3 3 3 3 3 3 3 3 3 3 3 3 3 3 3 3 3 3 3 3 3 3 3 3 3 3 3 3\n",
      " 3 3 3 3 3 3 3 3 3 3 3 3 3 3 3 3 3 3 3 3 3 3 3 3 3 3 3 3 3 3 3 3 3 3 3 3 3\n",
      " 3 3 3 3 3 3 3 3 3 3 3 3 0 2 0 3 0 2 0 2 0 2 0 2 0 2 0 2 0 2 0 3 0 2 0 2 0\n",
      " 2 0 2 0 2 0 2 0 2 0 2 0 2 0 2 0 2 0 2 0 2 0 2 0 2 0 2 0 2 0 2 0 2 0 2 0 2\n",
      " 0 2 0 2 0 2 0 2 0 2 0 2 0 2 0]\n"
     ]
    }
   ],
   "source": [
    "# Training the K-Means\n",
    "k_means = KMeans(n_clusters = 5)\n",
    "k_means.fit(df)\n",
    "k_means_labels = k_means.labels_\n",
    "\n",
    "# return a label for each data point based on their cluster\n",
    "Y = k_means.fit_predict(df)\n",
    "\n",
    "print(Y)"
   ]
  },
  {
   "cell_type": "markdown",
   "id": "af1b545b",
   "metadata": {},
   "source": [
    "5 Clusters - 0, 1, 2, 3, 4"
   ]
  },
  {
   "cell_type": "markdown",
   "id": "a5fef462",
   "metadata": {
    "papermill": {
     "duration": 0.012417,
     "end_time": "2022-12-09T17:05:56.545127",
     "exception": false,
     "start_time": "2022-12-09T17:05:56.532710",
     "status": "completed"
    },
    "tags": []
   },
   "source": [
    "# Analysis"
   ]
  },
  {
   "cell_type": "markdown",
   "id": "019fe132",
   "metadata": {
    "papermill": {
     "duration": 0.013107,
     "end_time": "2022-12-09T17:05:56.792567",
     "exception": false,
     "start_time": "2022-12-09T17:05:56.779460",
     "status": "completed"
    },
    "tags": []
   },
   "source": [
    "**Plotting label terhadap annual income dan Skor Pengeluaran (Spending Score) untuk memverifikasi clusters**"
   ]
  },
  {
   "cell_type": "code",
   "execution_count": 27,
   "id": "dc59c609",
   "metadata": {},
   "outputs": [
    {
     "data": {
      "text/plain": [
       "<AxesSubplot:xlabel='Spending Score (1-100)', ylabel='Annual Income (k$)'>"
      ]
     },
     "execution_count": 27,
     "metadata": {},
     "output_type": "execute_result"
    },
    {
     "data": {
      "image/png": "[encoded data removed]",
      "text/plain": [
       "<Figure size 432x288 with 1 Axes>"
      ]
     },
     "metadata": {
      "needs_background": "light"
     },
     "output_type": "display_data"
    }
   ],
   "source": [
    "df['k_means_labels'] = k_means_labels\n",
    "\n",
    "sns.scatterplot(data=df, x=\"Spending Score (1-100)\", y=\"Annual Income (k$)\", style=\"k_means_labels\")"
   ]
  },
  {
   "cell_type": "markdown",
   "id": "e3c94eda",
   "metadata": {
    "papermill": {
     "duration": 0.014495,
     "end_time": "2022-12-09T17:05:57.583469",
     "exception": false,
     "start_time": "2022-12-09T17:05:57.568974",
     "status": "completed"
    },
    "tags": []
   },
   "source": [
    "#### Analysed points:-\n",
    "Dari cluster di atas, kita dapat memisahkan Data menjadi Lima Kategori: (Nomor kategori berdasarkan Grafik K-Means)-\n",
    "\n",
    "        1. Category 0 -  High Income High Spending Category\n",
    "        2. Category 1 -  Medium Income Medium Spending\n",
    "        3. Category 2 -  High Income Low Spending Category\n",
    "        4. Category 3 -  Low Income High Spending Category\n",
    "        5. Category 4 -  Low Income Low Spending Category"
   ]
  },
  {
   "cell_type": "code",
   "execution_count": null,
   "id": "1720800d",
   "metadata": {},
   "outputs": [],
   "source": []
  }
 ],
 "metadata": {
  "kernelspec": {
   "display_name": "Python 3 (ipykernel)",
   "language": "python",
   "name": "python3"
  },
  "language_info": {
   "codemirror_mode": {
    "name": "ipython",
    "version": 3
   },
   "file_extension": ".py",
   "mimetype": "text/x-python",
   "name": "python",
   "nbconvert_exporter": "python",
   "pygments_lexer": "ipython3",
   "version": "3.9.12"
  },
  "papermill": {
   "default_parameters": {},
   "duration": 15.775109,
   "end_time": "2022-12-09T17:05:58.551282",
   "environment_variables": {},
   "exception": null,
   "input_path": "__notebook__.ipynb",
   "output_path": "__notebook__.ipynb",
   "parameters": {},
   "start_time": "2022-12-09T17:05:42.776173",
   "version": "2.3.4"
  }
 },
 "nbformat": 4,
 "nbformat_minor": 5
}
